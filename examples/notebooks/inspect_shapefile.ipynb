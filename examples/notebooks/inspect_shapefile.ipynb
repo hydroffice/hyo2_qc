{
 "cells": [
  {
   "cell_type": "code",
   "execution_count": 7,
   "metadata": {},
   "outputs": [
    {
     "name": "stdout",
     "output_type": "stream",
     "text": [
      "The autoreload extension is already loaded. To reload it, use:\n",
      "  %reload_ext autoreload\n",
      "X.Y.Z\n"
     ]
    }
   ],
   "source": [
    "import myshapefile\n",
    "%load_ext autoreload\n",
    "%autoreload 2\n",
    "%matplotlib inline\n",
    "\n",
    "import sys\n",
    "import os\n",
    "\n",
    "sys.path.append(os.getcwd())\n",
    "print(myshapefile.__version__)"
   ]
  },
  {
   "cell_type": "code",
   "execution_count": 40,
   "metadata": {},
   "outputs": [
    {
     "name": "stdout",
     "output_type": "stream",
     "text": [
      "encoding: utf-8, error: strict\n",
      "* shp header\n",
      "fileCode: 0x270a\n",
      "unuseds: (0, 0, 0, 0, 0)\n",
      "shp length: 268\n",
      "version: (1000,)\n",
      "shp type: 1\n",
      "bbox: [-82.5729422, 26.4080538, -81.9593312, 27.263504]\n",
      "zbox: [0.0, 0.0]\n",
      "mbox: [0.0, 0.0]\n",
      "* dbf header\n",
      "numRecords: 6\n"
     ]
    }
   ],
   "source": [
    "# sf_path = R\"C:\\Users\\gmasetti\\Google Drive\\QC Tools\\data\\_issues\\20190924_gene_ahb\\H13079_BottomSamples_shp_images\\H13079_BottomSamples\"\n",
    "# sf_path = R\"C:\\Users\\gmasetti\\AppData\\Local\\HydrOffice\\QC\\Survey\\H13079\\H13079_BottomSamples\\H13079_BottomSamples\"\n",
    "# sf_path = R\"C:\\Users\\gmasetti\\AppData\\Local\\HydrOffice\\QC\\Survey\\H13079\\H13079_BottomSamples_shp_images\\H13079_BottomSamples\"\n",
    "sf_path = R\"C:\\Users\\gmasetti\\AppData\\Local\\HydrOffice\\QC\\Survey\\H13079\\H13079_BottomSamples\\H13079_BottomSamples\"\n",
    "\n",
    "sf_encoding = \"utf-8\"\n",
    "sf = myshapefile.Reader(sf_path, encoding=sf_encoding)"
   ]
  },
  {
   "cell_type": "code",
   "execution_count": 37,
   "metadata": {},
   "outputs": [
    {
     "name": "stdout",
     "output_type": "stream",
     "text": [
      "shapefile Reader\n",
      "    0 shapes (type 'POINT')\n",
      "    0 records (18 fields)\n",
      "nr. of shapes: 6\n",
      "- 1[POINT]: [[-81.9681616, 26.4390258]]\n",
      "- 1[POINT]: [[-82.098141, 26.4080538]]\n",
      "- 1[POINT]: [[-81.9593312, 26.4128556]]\n",
      "- 1[POINT]: [[-82.2865065, 26.7014411]]\n",
      "- 1[POINT]: [[-82.5055679, 27.1553332]]\n",
      "- 1[POINT]: [[-82.5729422, 27.263504]]\n"
     ]
    }
   ],
   "source": [
    "print(sf)\n",
    "# print(sf.shapes())\n",
    "for shape in sf.shapes():\n",
    "    print(\"- %s[%s]: %s\" \n",
    "          % (shape.shapeType, shape.shapeTypeName, shape.points))"
   ]
  },
  {
   "cell_type": "code",
   "execution_count": 29,
   "metadata": {},
   "outputs": [
    {
     "name": "stdout",
     "output_type": "stream",
     "text": [
      "[('DeletionFlag', 'C', 1, 0), ['obstim', 'C', 254, 0], ['COLOUR', 'C', 254, 0], ['NATQUA', 'C', 254, 0], ['NATSUR', 'C', 254, 0], ['remrks', 'C', 254, 0], ['SORDAT', 'C', 254, 0], ['SORIND', 'C', 254, 0], ['image1', 'C', 254, 0], ['image2', 'C', 254, 0], ['image3', 'C', 254, 0], ['image4', 'C', 254, 0], ['c_subn', 'C', 254, 0], ['c_subc', 'C', 254, 0], ['c_cen1', 'C', 254, 0], ['c_cec1', 'C', 254, 0], ['c_cen2', 'C', 254, 0], ['c_cec2', 'C', 254, 0]]\n"
     ]
    }
   ],
   "source": [
    "fields = sf.fields\n",
    "print(fields)"
   ]
  },
  {
   "cell_type": "code",
   "execution_count": 30,
   "metadata": {},
   "outputs": [
    {
     "name": "stdout",
     "output_type": "stream",
     "text": [
      "[]\n"
     ]
    }
   ],
   "source": [
    "records = sf.records()\n",
    "print(records)"
   ]
  },
  {
   "cell_type": "code",
   "execution_count": null,
   "metadata": {},
   "outputs": [],
   "source": []
  }
 ],
 "metadata": {
  "kernelspec": {
   "display_name": "Python 3",
   "language": "python",
   "name": "python3"
  },
  "language_info": {
   "codemirror_mode": {
    "name": "ipython",
    "version": 3
   },
   "file_extension": ".py",
   "mimetype": "text/x-python",
   "name": "python",
   "nbconvert_exporter": "python",
   "pygments_lexer": "ipython3",
   "version": "3.6.7"
  }
 },
 "nbformat": 4,
 "nbformat_minor": 2
}
